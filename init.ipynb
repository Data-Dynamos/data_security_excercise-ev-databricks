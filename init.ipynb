{
 "cells": [
  {
   "cell_type": "code",
   "execution_count": 0,
   "metadata": {
    "application/vnd.databricks.v1+cell": {
     "cellMetadata": {},
     "inputWidgets": {},
     "nuid": "aa61b314-1c66-4c08-ab56-b735bcc10ad6",
     "showTitle": false,
     "title": ""
    }
   },
   "outputs": [
    {
     "output_type": "stream",
     "name": "stdout",
     "output_type": "stream",
     "text": [
      "Python interpreter will be restarted.\nCollecting wget\n  Using cached wget-3.2-py3-none-any.whl\nCollecting ff3\n  Using cached ff3-1.0.1-py3-none-any.whl (19 kB)\nRequirement already satisfied: pandas in /databricks/python3/lib/python3.9/site-packages (1.3.4)\nCollecting datafuzz\n  Using cached datafuzz-0.1.0a0-py2.py3-none-any.whl\nCollecting pyffx\n  Downloading pyffx-0.3.0.tar.gz (3.0 kB)\nCollecting pycryptodome\n  Using cached pycryptodome-3.17-cp35-abi3-manylinux_2_17_x86_64.manylinux2014_x86_64.whl (2.1 MB)\nRequirement already satisfied: python-dateutil>=2.7.3 in /databricks/python3/lib/python3.9/site-packages (from pandas) (2.8.2)\nRequirement already satisfied: pytz>=2017.3 in /databricks/python3/lib/python3.9/site-packages (from pandas) (2021.3)\nRequirement already satisfied: numpy>=1.17.3 in /databricks/python3/lib/python3.9/site-packages (from pandas) (1.20.3)\nCollecting faker\n  Using cached Faker-18.3.1-py3-none-any.whl (1.7 MB)\nCollecting pyyaml\n  Using cached PyYAML-6.0-cp39-cp39-manylinux_2_5_x86_64.manylinux1_x86_64.manylinux_2_12_x86_64.manylinux2010_x86_64.whl (661 kB)\nCollecting dataset\n  Using cached dataset-1.6.0-py2.py3-none-any.whl (18 kB)\nRequirement already satisfied: six in /databricks/python3/lib/python3.9/site-packages (from pyffx) (1.16.0)\nCollecting alembic>=0.6.2\n  Using cached alembic-1.10.2-py3-none-any.whl (212 kB)\nCollecting sqlalchemy<2.0.0,>=1.3.2\n  Using cached SQLAlchemy-1.4.47-cp39-cp39-manylinux_2_5_x86_64.manylinux1_x86_64.manylinux_2_17_x86_64.manylinux2014_x86_64.whl (1.6 MB)\nCollecting banal>=1.0.1\n  Using cached banal-1.0.6-py2.py3-none-any.whl (6.1 kB)\nCollecting Mako\n  Using cached Mako-1.2.4-py3-none-any.whl (78 kB)\nCollecting typing-extensions>=4\n  Using cached typing_extensions-4.5.0-py3-none-any.whl (27 kB)\nCollecting greenlet!=0.4.17\n  Using cached greenlet-2.0.2-cp39-cp39-manylinux_2_17_x86_64.manylinux2014_x86_64.whl (610 kB)\nRequirement already satisfied: MarkupSafe>=0.9.2 in /databricks/python3/lib/python3.9/site-packages (from Mako->alembic>=0.6.2->dataset->datafuzz) (2.0.1)\nBuilding wheels for collected packages: pyffx\n  Building wheel for pyffx (setup.py): started\n  Building wheel for pyffx (setup.py): finished with status 'done'\n  Created wheel for pyffx: filename=pyffx-0.3.0-py3-none-any.whl size=3727 sha256=76b574752e375673c2d6f5e3c083bf92557d38480f46cfc14ee92c7de5287f87\n  Stored in directory: /root/.cache/pip/wheels/89/7c/ca/9f8ff8ec5468ba8e959c53aa2d4430592deb16bead482b91f2\nSuccessfully built pyffx\nInstalling collected packages: greenlet, typing-extensions, sqlalchemy, Mako, banal, alembic, pyyaml, pycryptodome, faker, dataset, wget, pyffx, ff3, datafuzz\n  Attempting uninstall: typing-extensions\n    Found existing installation: typing-extensions 3.10.0.2\n    Not uninstalling typing-extensions at /databricks/python3/lib/python3.9/site-packages, outside environment /local_disk0/.ephemeral_nfs/envs/pythonEnv-18191780-4468-4034-a089-dc87d1691997\n    Can't uninstall 'typing-extensions'. No files were found to uninstall.\nSuccessfully installed Mako-1.2.4 alembic-1.10.2 banal-1.0.6 datafuzz-0.1.0a0 dataset-1.6.0 faker-18.3.1 ff3-1.0.1 greenlet-2.0.2 pycryptodome-3.17 pyffx-0.3.0 pyyaml-6.0 sqlalchemy-1.4.47 typing-extensions-4.5.0 wget-3.2\nPython interpreter will be restarted.\n"
     ]
    }
   ],
   "source": [
    "%pip install wget ff3 pandas datafuzz pyffx"
   ]
  },
  {
   "cell_type": "code",
   "execution_count": 0,
   "metadata": {
    "application/vnd.databricks.v1+cell": {
     "cellMetadata": {},
     "inputWidgets": {},
     "nuid": "f5d2e38d-c795-49e5-a4e0-2daaf6cd16f7",
     "showTitle": false,
     "title": ""
    }
   },
   "outputs": [
    {
     "output_type": "display_data",
     "data": {
      "text/html": [
       "<style scoped>\n",
       "  .ansiout {\n",
       "    display: block;\n",
       "    unicode-bidi: embed;\n",
       "    white-space: pre-wrap;\n",
       "    word-wrap: break-word;\n",
       "    word-break: break-all;\n",
       "    font-family: \"Menlo\", \"Monaco\", \"Consolas\", \"Ubuntu Mono\", \"Source Code Pro\", monospace;\n",
       "    font-size: 13px;\n",
       "    color: #555;\n",
       "    margin-left: 4px;\n",
       "    line-height: 19px;\n",
       "  }\n",
       "</style>\n",
       "<div class=\"ansiout\">Out[1]: False</div>"
      ]
     },
     "metadata": {
      "application/vnd.databricks.v1+output": {
       "addedWidgets": {},
       "arguments": {},
       "data": "<div class=\"ansiout\">Out[1]: False</div>",
       "datasetInfos": [],
       "metadata": {},
       "removedWidgets": [],
       "type": "html"
      }
     },
     "output_type": "display_data"
    }
   ],
   "source": [
    "# Clear out existing working directory\n",
    "\n",
    "current_user=dbutils.notebook.entry_point.getDbutils().notebook().getContext().userName().get().split(\"@\")[0]\n",
    "working_directory=f\"/FileStore/{current_user}/dataSecurity\"\n",
    "dbutils.fs.rm(working_directory, True)"
   ]
  },
  {
   "cell_type": "code",
   "execution_count": 0,
   "metadata": {
    "application/vnd.databricks.v1+cell": {
     "cellMetadata": {},
     "inputWidgets": {},
     "nuid": "6d890f8d-1402-44eb-8a0a-47f307bbfc08",
     "showTitle": false,
     "title": ""
    }
   },
   "outputs": [
    {
     "output_type": "display_data",
     "data": {
      "text/html": [
       "<style scoped>\n",
       "  .ansiout {\n",
       "    display: block;\n",
       "    unicode-bidi: embed;\n",
       "    white-space: pre-wrap;\n",
       "    word-wrap: break-word;\n",
       "    word-break: break-all;\n",
       "    font-family: \"Menlo\", \"Monaco\", \"Consolas\", \"Ubuntu Mono\", \"Source Code Pro\", monospace;\n",
       "    font-size: 13px;\n",
       "    color: #555;\n",
       "    margin-left: 4px;\n",
       "    line-height: 19px;\n",
       "  }\n",
       "</style>\n",
       "<div class=\"ansiout\"></div>"
      ]
     },
     "metadata": {
      "application/vnd.databricks.v1+output": {
       "addedWidgets": {},
       "arguments": {},
       "data": "<div class=\"ansiout\"></div>",
       "datasetInfos": [],
       "metadata": {},
       "removedWidgets": [],
       "type": "html"
      }
     },
     "output_type": "display_data"
    }
   ],
   "source": [
    "# Function to download files to DBFS\n",
    "\n",
    "import os\n",
    "import wget\n",
    "import sys\n",
    "import shutil\n",
    "\n",
    "sys.stdout.fileno = lambda: False # prevents AttributeError: 'ConsoleBuffer' object has no attribute 'fileno'   \n",
    "\n",
    "def clean_remake_dir(dir):\n",
    "    if os.path.isdir(local_tmp_dir): shutil.rmtree(local_tmp_dir)\n",
    "    os.makedirs(local_tmp_dir)\n",
    "    \n",
    "\n",
    "def download_to_local_dir(local_dir, target_dir, url, filename_parsing_lambda):\n",
    "    filename = (filename_parsing_lambda)(url)\n",
    "    tmp_path = f\"{local_dir}/{filename}\"\n",
    "    target_path = f\"{target_dir}/{filename}\"\n",
    "    if os.path.exists(tmp_path):\n",
    "        os.remove(tmp_path) \n",
    "    \n",
    "    saved_filename = wget.download(url, out = tmp_path)\n",
    "    \n",
    "    if target_path.endswith(\".zip\"):\n",
    "        with zipfile.ZipFile(tmp_path, 'r') as zip_ref:\n",
    "            zip_ref.extractall(local_dir)\n",
    "\n",
    "    dbutils.fs.cp(f\"file:{local_dir}/\", target_dir, True)\n",
    "    \n",
    "    return target_path"
   ]
  },
  {
   "cell_type": "code",
   "execution_count": 0,
   "metadata": {
    "application/vnd.databricks.v1+cell": {
     "cellMetadata": {},
     "inputWidgets": {},
     "nuid": "5f0a29f8-ad76-4f17-a4d3-5cc89ef3e809",
     "showTitle": false,
     "title": ""
    }
   },
   "outputs": [
    {
     "output_type": "display_data",
     "data": {
      "text/html": [
       "<style scoped>\n",
       "  .ansiout {\n",
       "    display: block;\n",
       "    unicode-bidi: embed;\n",
       "    white-space: pre-wrap;\n",
       "    word-wrap: break-word;\n",
       "    word-break: break-all;\n",
       "    font-family: \"Menlo\", \"Monaco\", \"Consolas\", \"Ubuntu Mono\", \"Source Code Pro\", monospace;\n",
       "    font-size: 13px;\n",
       "    color: #555;\n",
       "    margin-left: 4px;\n",
       "    line-height: 19px;\n",
       "  }\n",
       "</style>\n",
       "<div class=\"ansiout\"></div>"
      ]
     },
     "metadata": {
      "application/vnd.databricks.v1+output": {
       "addedWidgets": {},
       "arguments": {},
       "data": "<div class=\"ansiout\"></div>",
       "datasetInfos": [],
       "metadata": {},
       "removedWidgets": [],
       "type": "html"
      }
     },
     "output_type": "display_data"
    }
   ],
   "source": [
    "local_tmp_dir = f\"{os.getcwd()}/{current_user}/dataSecurity/tmp\"\n",
    "clean_remake_dir(local_tmp_dir)\n",
    "\n",
    "urls = [\n",
    "    \"https://raw.githubusercontent.com/VijayaDurgaN/data-security-exercise/master/data/air_quality.csv\"\n",
    "]\n",
    "    \n",
    "# target_directory = f\"/FileStore/{current_user}/dataSecurity\"\n",
    "    \n",
    "for url in urls:    \n",
    "    download_to_local_dir(local_tmp_dir, f\"{working_directory}/data\", url, lambda y: y.split(\"/\")[-1])\n",
    "    "
   ]
  },
  {
   "cell_type": "code",
   "execution_count": 0,
   "metadata": {
    "application/vnd.databricks.v1+cell": {
     "cellMetadata": {},
     "inputWidgets": {},
     "nuid": "2373c6eb-27b2-437f-ac37-681e874b6161",
     "showTitle": false,
     "title": ""
    }
   },
   "outputs": [
    {
     "output_type": "display_data",
     "data": {
      "text/html": [
       "<style scoped>\n",
       "  .ansiout {\n",
       "    display: block;\n",
       "    unicode-bidi: embed;\n",
       "    white-space: pre-wrap;\n",
       "    word-wrap: break-word;\n",
       "    word-break: break-all;\n",
       "    font-family: \"Menlo\", \"Monaco\", \"Consolas\", \"Ubuntu Mono\", \"Source Code Pro\", monospace;\n",
       "    font-size: 13px;\n",
       "    color: #555;\n",
       "    margin-left: 4px;\n",
       "    line-height: 19px;\n",
       "  }\n",
       "</style>\n",
       "<div class=\"ansiout\">Out[6]: [FileInfo(path=&#39;dbfs:/FileStore/kmok+databricksuk/dataSecurity/data/air_quality.csv&#39;, name=&#39;air_quality.csv&#39;, size=11244658, modificationTime=1657541280000)]</div>"
      ]
     },
     "metadata": {
      "application/vnd.databricks.v1+output": {
       "addedWidgets": {},
       "arguments": {},
       "data": "<div class=\"ansiout\">Out[6]: [FileInfo(path=&#39;dbfs:/FileStore/kmok+databricksuk/dataSecurity/data/air_quality.csv&#39;, name=&#39;air_quality.csv&#39;, size=11244658, modificationTime=1657541280000)]</div>",
       "datasetInfos": [],
       "metadata": {},
       "removedWidgets": [],
       "type": "html"
      }
     },
     "output_type": "display_data"
    }
   ],
   "source": [
    "dbutils.fs.ls(f\"{working_directory}/data\")"
   ]
  },
  {
   "cell_type": "code",
   "execution_count": 0,
   "metadata": {
    "application/vnd.databricks.v1+cell": {
     "cellMetadata": {},
     "inputWidgets": {},
     "nuid": "44785fc5-634b-436e-8280-b96c61e68444",
     "showTitle": false,
     "title": ""
    }
   },
   "outputs": [],
   "source": []
  }
 ],
 "metadata": {
  "application/vnd.databricks.v1+notebook": {
   "dashboards": [],
   "language": "python",
   "notebookMetadata": {
    "pythonIndentUnit": 4
   },
   "notebookName": "init",
   "widgets": {}
  }
 },
 "nbformat": 4,
 "nbformat_minor": 0
}
